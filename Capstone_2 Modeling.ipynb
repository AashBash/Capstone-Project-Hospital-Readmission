{
 "cells": [
  {
   "cell_type": "markdown",
   "id": "878e011b-54c9-4419-8448-d86e341b7eea",
   "metadata": {},
   "source": [
    "# Capstone 2 - Modeling\n",
    "# Predicting Hospital Readmissions Within 30 Days"
   ]
  },
  {
   "cell_type": "markdown",
   "id": "8b608b75-1bc8-4e21-aff4-36e9ba33f2ce",
   "metadata": {},
   "source": [
    "Goal: Develop a classification model to predict whether a patient will be readmitted within 30 days of discharge based on clinical and demographic data."
   ]
  },
  {
   "cell_type": "code",
   "execution_count": 180,
   "id": "26aba880-4f3f-4675-b541-91f64565a01a",
   "metadata": {},
   "outputs": [
    {
     "name": "stdout",
     "output_type": "stream",
     "text": [
      "Requirement already satisfied: xgboost in c:\\users\\aasha\\anaconda3\\lib\\site-packages (3.0.2)\n",
      "Requirement already satisfied: numpy in c:\\users\\aasha\\anaconda3\\lib\\site-packages (from xgboost) (1.26.4)\n",
      "Requirement already satisfied: scipy in c:\\users\\aasha\\anaconda3\\lib\\site-packages (from xgboost) (1.13.1)\n"
     ]
    }
   ],
   "source": [
    "!pip install xgboost"
   ]
  },
  {
   "cell_type": "code",
   "execution_count": 181,
   "id": "777d1a55-ca35-4173-8b0f-601e57a5c8c1",
   "metadata": {},
   "outputs": [],
   "source": [
    "import pandas as pd\n",
    "import numpy as np\n",
    "import matplotlib.pyplot as plt\n",
    "import seaborn as sns\n",
    "\n",
    "from sklearn.pipeline import Pipeline\n",
    "from sklearn.impute import SimpleImputer\n",
    "from sklearn.preprocessing import OneHotEncoder\n",
    "from sklearn.compose import ColumnTransformer\n",
    "from sklearn.model_selection import train_test_split, GridSearchCV\n",
    "from sklearn.preprocessing import StandardScaler\n",
    "from sklearn.metrics import classification_report, ConfusionMatrixDisplay, confusion_matrix, roc_auc_score, roc_curve, RocCurveDisplay, accuracy_score, f1_score\n",
    "from sklearn.linear_model import LogisticRegression\n",
    "from sklearn.ensemble import RandomForestClassifier\n",
    "from xgboost import XGBClassifier\n",
    "\n",
    "import warnings\n",
    "warnings.filterwarnings(\"ignore\")"
   ]
  },
  {
   "cell_type": "markdown",
   "id": "bd1b2e4d-835b-44bf-b377-7666dba427a8",
   "metadata": {},
   "source": [
    "# Loading and checking the data"
   ]
  },
  {
   "cell_type": "code",
   "execution_count": 185,
   "id": "b190bad4-a587-46fb-ad40-36c401e08a9d",
   "metadata": {},
   "outputs": [],
   "source": [
    "#load the data\n",
    "diabetic_data = pd.read_csv(r\"C:\\Users\\aasha\\Downloads\\diabetic_data_cleaned.csv\")"
   ]
  },
  {
   "cell_type": "code",
   "execution_count": 187,
   "id": "8f90ce86-96a8-4288-a7f9-a956a5ee3c03",
   "metadata": {},
   "outputs": [
    {
     "data": {
      "text/html": [
       "<div>\n",
       "<style scoped>\n",
       "    .dataframe tbody tr th:only-of-type {\n",
       "        vertical-align: middle;\n",
       "    }\n",
       "\n",
       "    .dataframe tbody tr th {\n",
       "        vertical-align: top;\n",
       "    }\n",
       "\n",
       "    .dataframe thead th {\n",
       "        text-align: right;\n",
       "    }\n",
       "</style>\n",
       "<table border=\"1\" class=\"dataframe\">\n",
       "  <thead>\n",
       "    <tr style=\"text-align: right;\">\n",
       "      <th></th>\n",
       "      <th>race</th>\n",
       "      <th>gender</th>\n",
       "      <th>age</th>\n",
       "      <th>admission_type_id</th>\n",
       "      <th>discharge_disposition_id</th>\n",
       "      <th>time_in_hospital</th>\n",
       "      <th>medical_specialty</th>\n",
       "      <th>num_lab_procedures</th>\n",
       "      <th>num_procedures</th>\n",
       "      <th>num_medications</th>\n",
       "      <th>...</th>\n",
       "      <th>insulin</th>\n",
       "      <th>glyburide-metformin</th>\n",
       "      <th>glipizide-metformin</th>\n",
       "      <th>glimepiride-pioglitazone</th>\n",
       "      <th>metformin-rosiglitazone</th>\n",
       "      <th>metformin-pioglitazone</th>\n",
       "      <th>change</th>\n",
       "      <th>diabetesMed</th>\n",
       "      <th>readmitted</th>\n",
       "      <th>readmitted_binary</th>\n",
       "    </tr>\n",
       "  </thead>\n",
       "  <tbody>\n",
       "    <tr>\n",
       "      <th>0</th>\n",
       "      <td>Caucasian</td>\n",
       "      <td>Female</td>\n",
       "      <td>5</td>\n",
       "      <td>6</td>\n",
       "      <td>25</td>\n",
       "      <td>1</td>\n",
       "      <td>Pediatrics-Endocrinology</td>\n",
       "      <td>41</td>\n",
       "      <td>0</td>\n",
       "      <td>1</td>\n",
       "      <td>...</td>\n",
       "      <td>No</td>\n",
       "      <td>No</td>\n",
       "      <td>No</td>\n",
       "      <td>No</td>\n",
       "      <td>No</td>\n",
       "      <td>No</td>\n",
       "      <td>No</td>\n",
       "      <td>No</td>\n",
       "      <td>No</td>\n",
       "      <td>0</td>\n",
       "    </tr>\n",
       "    <tr>\n",
       "      <th>1</th>\n",
       "      <td>Caucasian</td>\n",
       "      <td>Female</td>\n",
       "      <td>15</td>\n",
       "      <td>1</td>\n",
       "      <td>1</td>\n",
       "      <td>3</td>\n",
       "      <td>0</td>\n",
       "      <td>59</td>\n",
       "      <td>0</td>\n",
       "      <td>18</td>\n",
       "      <td>...</td>\n",
       "      <td>Up</td>\n",
       "      <td>No</td>\n",
       "      <td>No</td>\n",
       "      <td>No</td>\n",
       "      <td>No</td>\n",
       "      <td>No</td>\n",
       "      <td>Yes</td>\n",
       "      <td>Yes</td>\n",
       "      <td>&gt;30</td>\n",
       "      <td>0</td>\n",
       "    </tr>\n",
       "    <tr>\n",
       "      <th>2</th>\n",
       "      <td>AfricanAmerican</td>\n",
       "      <td>Female</td>\n",
       "      <td>25</td>\n",
       "      <td>1</td>\n",
       "      <td>1</td>\n",
       "      <td>2</td>\n",
       "      <td>0</td>\n",
       "      <td>11</td>\n",
       "      <td>5</td>\n",
       "      <td>13</td>\n",
       "      <td>...</td>\n",
       "      <td>No</td>\n",
       "      <td>No</td>\n",
       "      <td>No</td>\n",
       "      <td>No</td>\n",
       "      <td>No</td>\n",
       "      <td>No</td>\n",
       "      <td>No</td>\n",
       "      <td>Yes</td>\n",
       "      <td>No</td>\n",
       "      <td>0</td>\n",
       "    </tr>\n",
       "    <tr>\n",
       "      <th>3</th>\n",
       "      <td>Caucasian</td>\n",
       "      <td>Male</td>\n",
       "      <td>35</td>\n",
       "      <td>1</td>\n",
       "      <td>1</td>\n",
       "      <td>2</td>\n",
       "      <td>0</td>\n",
       "      <td>44</td>\n",
       "      <td>1</td>\n",
       "      <td>16</td>\n",
       "      <td>...</td>\n",
       "      <td>Up</td>\n",
       "      <td>No</td>\n",
       "      <td>No</td>\n",
       "      <td>No</td>\n",
       "      <td>No</td>\n",
       "      <td>No</td>\n",
       "      <td>Yes</td>\n",
       "      <td>Yes</td>\n",
       "      <td>No</td>\n",
       "      <td>0</td>\n",
       "    </tr>\n",
       "    <tr>\n",
       "      <th>4</th>\n",
       "      <td>Caucasian</td>\n",
       "      <td>Male</td>\n",
       "      <td>45</td>\n",
       "      <td>1</td>\n",
       "      <td>1</td>\n",
       "      <td>1</td>\n",
       "      <td>0</td>\n",
       "      <td>51</td>\n",
       "      <td>0</td>\n",
       "      <td>8</td>\n",
       "      <td>...</td>\n",
       "      <td>Steady</td>\n",
       "      <td>No</td>\n",
       "      <td>No</td>\n",
       "      <td>No</td>\n",
       "      <td>No</td>\n",
       "      <td>No</td>\n",
       "      <td>Yes</td>\n",
       "      <td>Yes</td>\n",
       "      <td>No</td>\n",
       "      <td>0</td>\n",
       "    </tr>\n",
       "  </tbody>\n",
       "</table>\n",
       "<p>5 rows × 44 columns</p>\n",
       "</div>"
      ],
      "text/plain": [
       "              race  gender  age  admission_type_id  discharge_disposition_id  \\\n",
       "0        Caucasian  Female    5                  6                        25   \n",
       "1        Caucasian  Female   15                  1                         1   \n",
       "2  AfricanAmerican  Female   25                  1                         1   \n",
       "3        Caucasian    Male   35                  1                         1   \n",
       "4        Caucasian    Male   45                  1                         1   \n",
       "\n",
       "   time_in_hospital         medical_specialty  num_lab_procedures  \\\n",
       "0                 1  Pediatrics-Endocrinology                  41   \n",
       "1                 3                         0                  59   \n",
       "2                 2                         0                  11   \n",
       "3                 2                         0                  44   \n",
       "4                 1                         0                  51   \n",
       "\n",
       "   num_procedures  num_medications  ...  insulin  glyburide-metformin  \\\n",
       "0               0                1  ...       No                   No   \n",
       "1               0               18  ...       Up                   No   \n",
       "2               5               13  ...       No                   No   \n",
       "3               1               16  ...       Up                   No   \n",
       "4               0                8  ...   Steady                   No   \n",
       "\n",
       "   glipizide-metformin glimepiride-pioglitazone metformin-rosiglitazone  \\\n",
       "0                   No                       No                      No   \n",
       "1                   No                       No                      No   \n",
       "2                   No                       No                      No   \n",
       "3                   No                       No                      No   \n",
       "4                   No                       No                      No   \n",
       "\n",
       "  metformin-pioglitazone  change diabetesMed readmitted readmitted_binary  \n",
       "0                     No      No          No         No                 0  \n",
       "1                     No     Yes         Yes        >30                 0  \n",
       "2                     No      No         Yes         No                 0  \n",
       "3                     No     Yes         Yes         No                 0  \n",
       "4                     No     Yes         Yes         No                 0  \n",
       "\n",
       "[5 rows x 44 columns]"
      ]
     },
     "execution_count": 187,
     "metadata": {},
     "output_type": "execute_result"
    }
   ],
   "source": [
    "#checking the data to make sure it is wrangled and ready for modeling\n",
    "diabetic_data.head()"
   ]
  },
  {
   "cell_type": "code",
   "execution_count": 189,
   "id": "24111227-bd6b-426a-bc36-982671856f83",
   "metadata": {},
   "outputs": [
    {
     "name": "stdout",
     "output_type": "stream",
     "text": [
      "<class 'pandas.core.frame.DataFrame'>\n",
      "RangeIndex: 99493 entries, 0 to 99492\n",
      "Data columns (total 44 columns):\n",
      " #   Column                    Non-Null Count  Dtype \n",
      "---  ------                    --------------  ----- \n",
      " 0   race                      99493 non-null  object\n",
      " 1   gender                    99493 non-null  object\n",
      " 2   age                       99493 non-null  int64 \n",
      " 3   admission_type_id         99493 non-null  int64 \n",
      " 4   discharge_disposition_id  99493 non-null  int64 \n",
      " 5   time_in_hospital          99493 non-null  int64 \n",
      " 6   medical_specialty         99493 non-null  object\n",
      " 7   num_lab_procedures        99493 non-null  int64 \n",
      " 8   num_procedures            99493 non-null  int64 \n",
      " 9   num_medications           99493 non-null  int64 \n",
      " 10  number_outpatient         99493 non-null  int64 \n",
      " 11  number_emergency          99493 non-null  int64 \n",
      " 12  number_inpatient          99493 non-null  int64 \n",
      " 13  diag_1                    99493 non-null  object\n",
      " 14  diag_2                    99493 non-null  object\n",
      " 15  diag_3                    99493 non-null  object\n",
      " 16  number_diagnoses          99493 non-null  int64 \n",
      " 17  metformin                 99493 non-null  object\n",
      " 18  repaglinide               99493 non-null  object\n",
      " 19  nateglinide               99493 non-null  object\n",
      " 20  chlorpropamide            99493 non-null  object\n",
      " 21  glimepiride               99493 non-null  object\n",
      " 22  acetohexamide             99493 non-null  object\n",
      " 23  glipizide                 99493 non-null  object\n",
      " 24  glyburide                 99493 non-null  object\n",
      " 25  tolbutamide               99493 non-null  object\n",
      " 26  pioglitazone              99493 non-null  object\n",
      " 27  rosiglitazone             99493 non-null  object\n",
      " 28  acarbose                  99493 non-null  object\n",
      " 29  miglitol                  99493 non-null  object\n",
      " 30  troglitazone              99493 non-null  object\n",
      " 31  tolazamide                99493 non-null  object\n",
      " 32  examide                   99493 non-null  object\n",
      " 33  citoglipton               99493 non-null  object\n",
      " 34  insulin                   99493 non-null  object\n",
      " 35  glyburide-metformin       99493 non-null  object\n",
      " 36  glipizide-metformin       99493 non-null  object\n",
      " 37  glimepiride-pioglitazone  99493 non-null  object\n",
      " 38  metformin-rosiglitazone   99493 non-null  object\n",
      " 39  metformin-pioglitazone    99493 non-null  object\n",
      " 40  change                    99493 non-null  object\n",
      " 41  diabetesMed               99493 non-null  object\n",
      " 42  readmitted                99493 non-null  object\n",
      " 43  readmitted_binary         99493 non-null  int64 \n",
      "dtypes: int64(12), object(32)\n",
      "memory usage: 33.4+ MB\n"
     ]
    }
   ],
   "source": [
    "diabetic_data.info()"
   ]
  },
  {
   "cell_type": "code",
   "execution_count": 191,
   "id": "1a5f45ed-5b7a-40c1-88a3-881bc7d600f2",
   "metadata": {},
   "outputs": [],
   "source": [
    "#drop identifiers and target\n",
    "X = diabetic_data.drop(columns=['readmitted_binary'])\n",
    "y = diabetic_data['readmitted_binary']                       "
   ]
  },
  {
   "cell_type": "markdown",
   "id": "4d2b2d04-1c9d-431f-9711-e4f6c79f1edd",
   "metadata": {},
   "source": [
    "## Data Preprocessing\r\n",
    "To prepare this dataset we have imputed the missing values, scaled numerical features, and applied one hot encoding to categorical features..\r\n"
   ]
  },
  {
   "cell_type": "code",
   "execution_count": 194,
   "id": "a925a838-94e9-4aa0-adc5-19c67550f4fd",
   "metadata": {},
   "outputs": [],
   "source": [
    "#using the train test split\n",
    "X_train, X_test, y_train, y_test = train_test_split(X, y, test_size = 0.20, random_state = 42)"
   ]
  },
  {
   "cell_type": "code",
   "execution_count": 196,
   "id": "34177ec5-0e61-431f-98f3-96a1d766d744",
   "metadata": {},
   "outputs": [
    {
     "data": {
      "image/png": "[encoded data removed]",
      "text/plain": [
       "<Figure size 640x480 with 2 Axes>"
      ]
     },
     "metadata": {},
     "output_type": "display_data"
    }
   ],
   "source": [
    "#after model.fit and model.predict calls\n",
    "#confusion Matrix\n",
    "cm = confusion_matrix(y_test, y_pred)\n",
    "disp = ConfusionMatrixDisplay(confusion_matrix=cm, display_labels=model.classes_)\n",
    "disp.plot()\n",
    "plt.title('Confusion Matrix for Logistic Regression')\n",
    "plt.show()"
   ]
  },
  {
   "cell_type": "code",
   "execution_count": 198,
   "id": "1b80f428-5d8c-4faa-b45d-2d3993b1da6d",
   "metadata": {},
   "outputs": [
    {
     "data": {
      "image/png": "[encoded data removed]",
      "text/plain": [
       "<Figure size 640x480 with 1 Axes>"
      ]
     },
     "metadata": {},
     "output_type": "display_data"
    }
   ],
   "source": [
    "#roc curve\n",
    "roc_disp = RocCurveDisplay.from_estimator(model, X_test, y_test)\n",
    "plt.title('ROC Curve for Logistic Regression')\n",
    "plt.show()"
   ]
  },
  {
   "cell_type": "code",
   "execution_count": 130,
   "id": "58c5ca07-3cb3-4801-9d5f-393dd8e1fd8a",
   "metadata": {},
   "outputs": [],
   "source": [
    "#separate column types\n",
    "\n",
    "num_features = X.select_dtypes(include=['int64', 'float64']).columns\n",
    "cat_features = X.select_dtypes(include=['object']).columns\n",
    "\n",
    "#create preprocessing pipeline\n",
    "numeric_pipeline = Pipeline([\n",
    "    ('imputer', SimpleImputer(strategy='median')),\n",
    "    ('scaler', StandardScaler())\n",
    "])\n",
    "\n",
    "categorical_pipeline = Pipeline([\n",
    "    ('imputer', SimpleImputer(strategy='most_frequent')),\n",
    "    ('onehot', OneHotEncoder(handle_unknown='ignore'))\n",
    "])\n",
    "\n",
    "preprocessor = ColumnTransformer([\n",
    "    ('num', numeric_pipeline, num_features),\n",
    "    ('cat', categorical_pipeline, cat_features)\n",
    "])\n"
   ]
  },
  {
   "cell_type": "code",
   "execution_count": 147,
   "id": "b22e454c-09e2-408b-9556-123fb01838c2",
   "metadata": {},
   "outputs": [],
   "source": [
    "logreg_pipeline = Pipeline([\n",
    "    ('preprocessor', preprocessor),\n",
    "    ('classifier', LogisticRegression(max_iter=1000))\n",
    "])"
   ]
  },
  {
   "cell_type": "code",
   "execution_count": 135,
   "id": "65c14dca-4cb5-4c48-923a-dcfce97656cc",
   "metadata": {},
   "outputs": [],
   "source": [
    "rf_pipeline = Pipeline([\n",
    "    ('preprocessor', preprocessor),\n",
    "    ('classifier', RandomForestClassifier(random_state=42))\n",
    "])"
   ]
  },
  {
   "cell_type": "code",
   "execution_count": 137,
   "id": "6e86a0d8-a8ad-4f1a-9511-9acfa6bf8b4c",
   "metadata": {},
   "outputs": [],
   "source": [
    "xgb_pipeline = Pipeline([\n",
    "    ('preprocessor', preprocessor),\n",
    "    ('classifier', XGBClassifier(use_label_encoder=False, eval_metric='logloss'))\n",
    "])"
   ]
  },
  {
   "cell_type": "code",
   "execution_count": 172,
   "id": "eb21a400-9769-451b-9769-46920661e3d4",
   "metadata": {},
   "outputs": [
    {
     "name": "stdout",
     "output_type": "stream",
     "text": [
      "\n",
      "Logistic Regression Performance:\n",
      "              precision    recall  f1-score   support\n",
      "\n",
      "           0       1.00      1.00      1.00     17724\n",
      "           1       1.00      1.00      1.00      2175\n",
      "\n",
      "    accuracy                           1.00     19899\n",
      "   macro avg       1.00      1.00      1.00     19899\n",
      "weighted avg       1.00      1.00      1.00     19899\n",
      "\n",
      "Confusion Matrix:\n",
      "[[17724     0]\n",
      " [    0  2175]]\n",
      "ROC AUC Score: 1.0\n",
      "\n",
      "Random Forest Performance:\n",
      "              precision    recall  f1-score   support\n",
      "\n",
      "           0       1.00      1.00      1.00     17724\n",
      "           1       1.00      1.00      1.00      2175\n",
      "\n",
      "    accuracy                           1.00     19899\n",
      "   macro avg       1.00      1.00      1.00     19899\n",
      "weighted avg       1.00      1.00      1.00     19899\n",
      "\n",
      "Confusion Matrix:\n",
      "[[17724     0]\n",
      " [    0  2175]]\n",
      "ROC AUC Score: 1.0\n",
      "\n",
      "XGBoost Performance:\n",
      "              precision    recall  f1-score   support\n",
      "\n",
      "           0       1.00      1.00      1.00     17724\n",
      "           1       1.00      1.00      1.00      2175\n",
      "\n",
      "    accuracy                           1.00     19899\n",
      "   macro avg       1.00      1.00      1.00     19899\n",
      "weighted avg       1.00      1.00      1.00     19899\n",
      "\n",
      "Confusion Matrix:\n",
      "[[17724     0]\n",
      " [    0  2175]]\n",
      "ROC AUC Score: 1.0\n"
     ]
    },
    {
     "data": {
      "image/png": "[encoded data removed]",
      "text/plain": [
       "<Figure size 1000x600 with 1 Axes>"
      ]
     },
     "metadata": {},
     "output_type": "display_data"
    }
   ],
   "source": [
    "# After collecting metrics for all models (accuracy, f1, roc_auc)\n",
    "model_names = []\n",
    "accuracies = []\n",
    "f1_scores = []\n",
    "roc_aucs = []\n",
    "\n",
    "for name, model in models.items():\n",
    "    model.fit(X_train, y_train)\n",
    "    y_pred = model.predict(X_test)\n",
    "    y_proba = model.predict_proba(X_test)[:, 1]\n",
    "\n",
    "    # Print classification report\n",
    "    print(f\"\\n{name} Performance:\")\n",
    "    print(classification_report(y_test, y_pred))\n",
    "    print(\"Confusion Matrix:\")\n",
    "    print(confusion_matrix(y_test, y_pred))\n",
    "    print(\"ROC AUC Score:\", roc_auc_score(y_test, y_proba))\n",
    "\n",
    "    # Save metrics\n",
    "    model_names.append(name)\n",
    "    accuracies.append(accuracy_score(y_test, y_pred))\n",
    "    f1_scores.append(f1_score(y_test, y_pred))\n",
    "    roc_aucs.append(roc_auc_score(y_test, y_proba))\n",
    "\n",
    "# Create DataFrame for visualization\n",
    "metrics_df = pd.DataFrame({\n",
    "    'Model': model_names,\n",
    "    'Accuracy': accuracies,\n",
    "    'F1 Score': f1_scores,\n",
    "    'ROC AUC': roc_aucs\n",
    "})\n",
    "\n",
    "# Plotting\n",
    "metrics_df.set_index('Model').plot(kind='bar', figsize=(10, 6))\n",
    "plt.title('Model Performance Comparison')\n",
    "plt.ylabel('Score')\n",
    "plt.ylim(0, 1)\n",
    "plt.xticks(rotation=0)\n",
    "plt.legend(loc='lower right')\n",
    "plt.tight_layout()\n",
    "plt.show()"
   ]
  },
  {
   "cell_type": "code",
   "execution_count": null,
   "id": "ffd00793-5033-46dd-945c-21b1bb4e9a43",
   "metadata": {},
   "outputs": [],
   "source": []
  }
 ],
 "metadata": {
  "kernelspec": {
   "display_name": "Python 3 (ipykernel)",
   "language": "python",
   "name": "python3"
  },
  "language_info": {
   "codemirror_mode": {
    "name": "ipython",
    "version": 3
   },
   "file_extension": ".py",
   "mimetype": "text/x-python",
   "name": "python",
   "nbconvert_exporter": "python",
   "pygments_lexer": "ipython3",
   "version": "3.12.4"
  }
 },
 "nbformat": 4,
 "nbformat_minor": 5
}
